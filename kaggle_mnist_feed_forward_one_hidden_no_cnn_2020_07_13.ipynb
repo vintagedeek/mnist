{
  "nbformat": 4,
  "nbformat_minor": 0,
  "metadata": {
    "colab": {
      "name": "kaggle_mnist_feed_forward_one_hidden_no_cnn_2020_07_13.ipynb",
      "provenance": [],
      "collapsed_sections": [],
      "authorship_tag": "ABX9TyMKVLwZi/pjGEIaceHKjmHZ",
      "include_colab_link": true
    },
    "kernelspec": {
      "name": "python3",
      "display_name": "Python 3"
    },
    "accelerator": "GPU"
  },
  "cells": [
    {
      "cell_type": "markdown",
      "metadata": {
        "id": "view-in-github",
        "colab_type": "text"
      },
      "source": [
        "<a href=\"https://colab.research.google.com/github/vintagedeek/mnist/blob/master/kaggle_mnist_feed_forward_one_hidden_no_cnn_2020_07_13.ipynb\" target=\"_parent\"><img src=\"https://colab.research.google.com/assets/colab-badge.svg\" alt=\"Open In Colab\"/></a>"
      ]
    },
    {
      "cell_type": "code",
      "metadata": {
        "id": "GnUXMEYm5UaU",
        "colab_type": "code",
        "colab": {}
      },
      "source": [
        "import pandas as pd\n",
        "import numpy as np\n",
        "\n",
        "import torch \n",
        "import torch.nn as nn\n",
        "import torch.optim as optim\n",
        "import torch.nn.functional as F"
      ],
      "execution_count": 41,
      "outputs": []
    },
    {
      "cell_type": "code",
      "metadata": {
        "id": "K6pL51RZ5mk_",
        "colab_type": "code",
        "colab": {
          "base_uri": "https://localhost:8080/",
          "height": 108
        },
        "outputId": "994ada96-0b68-4ea6-cc97-4c4b61d77773"
      },
      "source": [
        "train_url = \"https://raw.githubusercontent.com/wehrley/Kaggle-Digit-Recognizer/master/train.csv\"\n",
        "df_train = pd.read_csv(train_url)\n",
        "df_train.info()"
      ],
      "execution_count": 42,
      "outputs": [
        {
          "output_type": "stream",
          "text": [
            "<class 'pandas.core.frame.DataFrame'>\n",
            "RangeIndex: 42000 entries, 0 to 41999\n",
            "Columns: 785 entries, label to pixel783\n",
            "dtypes: int64(785)\n",
            "memory usage: 251.5 MB\n"
          ],
          "name": "stdout"
        }
      ]
    },
    {
      "cell_type": "code",
      "metadata": {
        "id": "Seh8xde35vNL",
        "colab_type": "code",
        "colab": {
          "base_uri": "https://localhost:8080/",
          "height": 108
        },
        "outputId": "e2510f4e-80d9-4767-8b02-a0ffba1cb8c0"
      },
      "source": [
        "test_url = 'https://raw.githubusercontent.com/wehrley/Kaggle-Digit-Recognizer/master/test.csv'\n",
        "df_test = pd.read_csv(test_url)\n",
        "df_test.info()"
      ],
      "execution_count": 43,
      "outputs": [
        {
          "output_type": "stream",
          "text": [
            "<class 'pandas.core.frame.DataFrame'>\n",
            "RangeIndex: 28000 entries, 0 to 27999\n",
            "Columns: 784 entries, pixel0 to pixel783\n",
            "dtypes: int64(784)\n",
            "memory usage: 167.5 MB\n"
          ],
          "name": "stdout"
        }
      ]
    },
    {
      "cell_type": "code",
      "metadata": {
        "id": "SyFhhh_f58Li",
        "colab_type": "code",
        "colab": {}
      },
      "source": [
        "train_set = df_train[0:29400]\n",
        "train = torch.tensor(np.array(train_set.iloc[:, 1:]), dtype=torch.torch.float32)\n",
        "train_labels = torch.tensor(np.array(train_set.iloc[:, 0]), dtype=torch.int64)\n",
        "val_set = df_train[29400:]\n",
        "val = torch.tensor(np.array(val_set.iloc[:, 1:]), dtype=torch.float32)\n",
        "val_labels = torch.tensor(np.array(val_set.iloc[:, 0]), dtype=torch.int64)"
      ],
      "execution_count": 44,
      "outputs": []
    },
    {
      "cell_type": "code",
      "metadata": {
        "id": "L-WQCd415-c7",
        "colab_type": "code",
        "colab": {}
      },
      "source": [
        "device = 'cuda' if torch.cuda.is_available() else 'cpu'"
      ],
      "execution_count": 45,
      "outputs": []
    },
    {
      "cell_type": "code",
      "metadata": {
        "id": "9Qq-OmCZ6Iva",
        "colab_type": "code",
        "colab": {
          "base_uri": "https://localhost:8080/",
          "height": 35
        },
        "outputId": "b1860b64-5410-4d58-c7ae-41400896058d"
      },
      "source": [
        "device"
      ],
      "execution_count": 46,
      "outputs": [
        {
          "output_type": "execute_result",
          "data": {
            "application/vnd.google.colaboratory.intrinsic": {
              "type": "string"
            },
            "text/plain": [
              "'cuda'"
            ]
          },
          "metadata": {
            "tags": []
          },
          "execution_count": 46
        }
      ]
    },
    {
      "cell_type": "code",
      "metadata": {
        "id": "Y2uDrSen8Qp2",
        "colab_type": "code",
        "colab": {
          "base_uri": "https://localhost:8080/",
          "height": 35
        },
        "outputId": "996073a0-371a-4397-be09-917457f83eb9"
      },
      "source": [
        "train_labels.shape"
      ],
      "execution_count": 47,
      "outputs": [
        {
          "output_type": "execute_result",
          "data": {
            "text/plain": [
              "torch.Size([29400])"
            ]
          },
          "metadata": {
            "tags": []
          },
          "execution_count": 47
        }
      ]
    },
    {
      "cell_type": "code",
      "metadata": {
        "id": "fyoEAqCf6JUd",
        "colab_type": "code",
        "colab": {}
      },
      "source": [
        "batch_size = 50\n",
        "epochs = 70\n",
        "learning_rate = 0.1\n",
        "lmbda = 0\n",
        "hidden_neurons_size = 100\n",
        "in_features = 784 # image is shape (28, 28)"
      ],
      "execution_count": 65,
      "outputs": []
    },
    {
      "cell_type": "code",
      "metadata": {
        "id": "1-m5y1SQ6M8S",
        "colab_type": "code",
        "colab": {}
      },
      "source": [
        "network = nn.Sequential(\n",
        "    nn.Linear(in_features=in_features, out_features=hidden_neurons_size),\n",
        "    nn.Sigmoid(),\n",
        "    nn.Linear(in_features=hidden_neurons_size, out_features=10),\n",
        "    nn.Sigmoid())"
      ],
      "execution_count": 66,
      "outputs": []
    },
    {
      "cell_type": "code",
      "metadata": {
        "id": "ZZCa9TWDEyAC",
        "colab_type": "code",
        "colab": {
          "base_uri": "https://localhost:8080/",
          "height": 35
        },
        "outputId": "4ff969d5-180e-4b46-cf77-18b1929d1be5"
      },
      "source": [
        "train_labels.shape"
      ],
      "execution_count": 67,
      "outputs": [
        {
          "output_type": "execute_result",
          "data": {
            "text/plain": [
              "torch.Size([29400])"
            ]
          },
          "metadata": {
            "tags": []
          },
          "execution_count": 67
        }
      ]
    },
    {
      "cell_type": "code",
      "metadata": {
        "id": "7ub8DzH0FIaJ",
        "colab_type": "code",
        "colab": {
          "base_uri": "https://localhost:8080/",
          "height": 35
        },
        "outputId": "b04bd8d1-84d2-4520-a3c5-7566266351e0"
      },
      "source": [
        "train.shape"
      ],
      "execution_count": 68,
      "outputs": [
        {
          "output_type": "execute_result",
          "data": {
            "text/plain": [
              "torch.Size([29400, 784])"
            ]
          },
          "metadata": {
            "tags": []
          },
          "execution_count": 68
        }
      ]
    },
    {
      "cell_type": "code",
      "metadata": {
        "id": "iY9jFplD99Ot",
        "colab_type": "code",
        "colab": {
          "base_uri": "https://localhost:8080/",
          "height": 1000
        },
        "outputId": "ce54284f-80af-48bd-d884-8a2accd7914a"
      },
      "source": [
        "network = network.to(device)\n",
        "optimizer = optim.SGD(network.parameters(), lr=learning_rate, weight_decay=lmbda)\n",
        "#scheduler = optim.lr_scheduler.StepLR(optimizer, step_size=30, gamma=0.1)\n",
        "for j in range(epochs):\n",
        "    num_correct = 0\n",
        "    val_number_correct = 0\n",
        "    mini_batches = [train[k:k + batch_size] for k in range(0, train_labels.shape[0], batch_size)]\n",
        "    mini_labels = [train_labels[k:k + batch_size] for k in range(0, train_labels.shape[0], batch_size)]\n",
        "    for b in range(0, len(mini_batches)):\n",
        "        images = mini_batches[b].to(device)\n",
        "        #print(images.shape)\n",
        "        labels = mini_labels[b].to(device)\n",
        "        #print(labels.shape)\n",
        "        #print(labels.dtype)\n",
        "        #print(images.dtype)\n",
        "        preds = network(images)\n",
        "        loss = F.cross_entropy(preds, labels)\n",
        "        optimizer.zero_grad()\n",
        "        loss.backward()\n",
        "        optimizer.step()\n",
        "        num_correct += preds.argmax(dim=1).eq(labels).sum().item()\n",
        "      \n",
        "    validation_set = val.to(device)\n",
        "    validation_labels = val_labels.to(device) \n",
        "    validation_preds = network(validation_set)\n",
        "    val_number_correct += validation_preds.argmax(dim=1).eq(validation_labels).sum().item()\n",
        "\n",
        "    print('Completed epoch: ', j)\n",
        "    print('Train accuracy: ', num_correct/len(train))\n",
        "    print('Validation Accuracy: ', val_number_correct/len(validation_set))\n",
        "      \n",
        "    #scheduler.step()"
      ],
      "execution_count": 69,
      "outputs": [
        {
          "output_type": "stream",
          "text": [
            "Completed epoch:  0\n",
            "Train accuracy:  0.8193197278911565\n",
            "Validation Accuracy:  0.8787301587301587\n",
            "Completed epoch:  1\n",
            "Train accuracy:  0.8866666666666667\n",
            "Validation Accuracy:  0.8894444444444445\n",
            "Completed epoch:  2\n",
            "Train accuracy:  0.8960544217687075\n",
            "Validation Accuracy:  0.9004761904761904\n",
            "Completed epoch:  3\n",
            "Train accuracy:  0.9030612244897959\n",
            "Validation Accuracy:  0.9046825396825396\n",
            "Completed epoch:  4\n",
            "Train accuracy:  0.9071428571428571\n",
            "Validation Accuracy:  0.9046031746031746\n",
            "Completed epoch:  5\n",
            "Train accuracy:  0.9091156462585034\n",
            "Validation Accuracy:  0.9030952380952381\n",
            "Completed epoch:  6\n",
            "Train accuracy:  0.9099659863945578\n",
            "Validation Accuracy:  0.9107936507936508\n",
            "Completed epoch:  7\n",
            "Train accuracy:  0.9134013605442177\n",
            "Validation Accuracy:  0.9135714285714286\n",
            "Completed epoch:  8\n",
            "Train accuracy:  0.9144897959183673\n",
            "Validation Accuracy:  0.9175396825396825\n",
            "Completed epoch:  9\n",
            "Train accuracy:  0.9163945578231293\n",
            "Validation Accuracy:  0.9156349206349207\n",
            "Completed epoch:  10\n",
            "Train accuracy:  0.9157823129251701\n",
            "Validation Accuracy:  0.9166666666666666\n",
            "Completed epoch:  11\n",
            "Train accuracy:  0.9185374149659864\n",
            "Validation Accuracy:  0.9172222222222223\n",
            "Completed epoch:  12\n",
            "Train accuracy:  0.922312925170068\n",
            "Validation Accuracy:  0.916984126984127\n",
            "Completed epoch:  13\n",
            "Train accuracy:  0.9234353741496598\n",
            "Validation Accuracy:  0.9180158730158731\n",
            "Completed epoch:  14\n",
            "Train accuracy:  0.9207482993197279\n",
            "Validation Accuracy:  0.9144444444444444\n",
            "Completed epoch:  15\n",
            "Train accuracy:  0.920578231292517\n",
            "Validation Accuracy:  0.9163492063492064\n",
            "Completed epoch:  16\n",
            "Train accuracy:  0.9255442176870748\n",
            "Validation Accuracy:  0.9207142857142857\n",
            "Completed epoch:  17\n",
            "Train accuracy:  0.9243877551020409\n",
            "Validation Accuracy:  0.9188095238095239\n",
            "Completed epoch:  18\n",
            "Train accuracy:  0.926530612244898\n",
            "Validation Accuracy:  0.9213492063492064\n",
            "Completed epoch:  19\n",
            "Train accuracy:  0.9275170068027211\n",
            "Validation Accuracy:  0.9275396825396826\n",
            "Completed epoch:  20\n",
            "Train accuracy:  0.9269727891156463\n",
            "Validation Accuracy:  0.9223015873015873\n",
            "Completed epoch:  21\n",
            "Train accuracy:  0.9268367346938775\n",
            "Validation Accuracy:  0.922063492063492\n",
            "Completed epoch:  22\n",
            "Train accuracy:  0.9293537414965987\n",
            "Validation Accuracy:  0.925\n",
            "Completed epoch:  23\n",
            "Train accuracy:  0.9316666666666666\n",
            "Validation Accuracy:  0.927063492063492\n",
            "Completed epoch:  24\n",
            "Train accuracy:  0.9297278911564626\n",
            "Validation Accuracy:  0.9215873015873016\n",
            "Completed epoch:  25\n",
            "Train accuracy:  0.930952380952381\n",
            "Validation Accuracy:  0.9256349206349206\n",
            "Completed epoch:  26\n",
            "Train accuracy:  0.9317006802721088\n",
            "Validation Accuracy:  0.9256349206349206\n",
            "Completed epoch:  27\n",
            "Train accuracy:  0.9324829931972789\n",
            "Validation Accuracy:  0.9261904761904762\n",
            "Completed epoch:  28\n",
            "Train accuracy:  0.9307823129251701\n",
            "Validation Accuracy:  0.9274603174603174\n",
            "Completed epoch:  29\n",
            "Train accuracy:  0.9330952380952381\n",
            "Validation Accuracy:  0.9267460317460318\n",
            "Completed epoch:  30\n",
            "Train accuracy:  0.9338095238095238\n",
            "Validation Accuracy:  0.9284126984126985\n",
            "Completed epoch:  31\n",
            "Train accuracy:  0.9354421768707483\n",
            "Validation Accuracy:  0.9293650793650794\n",
            "Completed epoch:  32\n",
            "Train accuracy:  0.9361904761904762\n",
            "Validation Accuracy:  0.931031746031746\n",
            "Completed epoch:  33\n",
            "Train accuracy:  0.9351020408163265\n",
            "Validation Accuracy:  0.928968253968254\n",
            "Completed epoch:  34\n",
            "Train accuracy:  0.9365646258503402\n",
            "Validation Accuracy:  0.9284126984126985\n",
            "Completed epoch:  35\n",
            "Train accuracy:  0.9359183673469388\n",
            "Validation Accuracy:  0.928968253968254\n",
            "Completed epoch:  36\n",
            "Train accuracy:  0.9351700680272109\n",
            "Validation Accuracy:  0.931031746031746\n",
            "Completed epoch:  37\n",
            "Train accuracy:  0.934421768707483\n",
            "Validation Accuracy:  0.9292857142857143\n",
            "Completed epoch:  38\n",
            "Train accuracy:  0.9375850340136055\n",
            "Validation Accuracy:  0.9351587301587302\n",
            "Completed epoch:  39\n",
            "Train accuracy:  0.9376530612244898\n",
            "Validation Accuracy:  0.9315873015873016\n",
            "Completed epoch:  40\n",
            "Train accuracy:  0.9379931972789116\n",
            "Validation Accuracy:  0.9333333333333333\n",
            "Completed epoch:  41\n",
            "Train accuracy:  0.937312925170068\n",
            "Validation Accuracy:  0.9261904761904762\n",
            "Completed epoch:  42\n",
            "Train accuracy:  0.9370748299319728\n",
            "Validation Accuracy:  0.9330952380952381\n",
            "Completed epoch:  43\n",
            "Train accuracy:  0.9374489795918367\n",
            "Validation Accuracy:  0.933015873015873\n",
            "Completed epoch:  44\n",
            "Train accuracy:  0.9387414965986395\n",
            "Validation Accuracy:  0.9314285714285714\n",
            "Completed epoch:  45\n",
            "Train accuracy:  0.9383333333333334\n",
            "Validation Accuracy:  0.9344444444444444\n",
            "Completed epoch:  46\n",
            "Train accuracy:  0.9392517006802721\n",
            "Validation Accuracy:  0.9335714285714286\n",
            "Completed epoch:  47\n",
            "Train accuracy:  0.940578231292517\n",
            "Validation Accuracy:  0.9371428571428572\n",
            "Completed epoch:  48\n",
            "Train accuracy:  0.9408503401360544\n",
            "Validation Accuracy:  0.9357936507936508\n",
            "Completed epoch:  49\n",
            "Train accuracy:  0.9427551020408164\n",
            "Validation Accuracy:  0.9337301587301587\n",
            "Completed epoch:  50\n",
            "Train accuracy:  0.9408843537414966\n",
            "Validation Accuracy:  0.9341269841269841\n",
            "Completed epoch:  51\n",
            "Train accuracy:  0.9410544217687075\n",
            "Validation Accuracy:  0.9338095238095238\n",
            "Completed epoch:  52\n",
            "Train accuracy:  0.9417687074829932\n",
            "Validation Accuracy:  0.9372222222222222\n",
            "Completed epoch:  53\n",
            "Train accuracy:  0.9434353741496598\n",
            "Validation Accuracy:  0.9365079365079365\n",
            "Completed epoch:  54\n",
            "Train accuracy:  0.9441156462585034\n",
            "Validation Accuracy:  0.9365079365079365\n",
            "Completed epoch:  55\n",
            "Train accuracy:  0.9421428571428572\n",
            "Validation Accuracy:  0.9350793650793651\n",
            "Completed epoch:  56\n",
            "Train accuracy:  0.9418027210884353\n",
            "Validation Accuracy:  0.937063492063492\n",
            "Completed epoch:  57\n",
            "Train accuracy:  0.9416666666666667\n",
            "Validation Accuracy:  0.9401587301587302\n",
            "Completed epoch:  58\n",
            "Train accuracy:  0.944625850340136\n",
            "Validation Accuracy:  0.9365873015873016\n",
            "Completed epoch:  59\n",
            "Train accuracy:  0.9437414965986395\n",
            "Validation Accuracy:  0.9380952380952381\n",
            "Completed epoch:  60\n",
            "Train accuracy:  0.9413945578231292\n",
            "Validation Accuracy:  0.9357142857142857\n",
            "Completed epoch:  61\n",
            "Train accuracy:  0.9431632653061225\n",
            "Validation Accuracy:  0.9357936507936508\n",
            "Completed epoch:  62\n",
            "Train accuracy:  0.944047619047619\n",
            "Validation Accuracy:  0.9397619047619048\n",
            "Completed epoch:  63\n",
            "Train accuracy:  0.944047619047619\n",
            "Validation Accuracy:  0.9391269841269841\n",
            "Completed epoch:  64\n",
            "Train accuracy:  0.9434013605442176\n",
            "Validation Accuracy:  0.9383333333333334\n",
            "Completed epoch:  65\n",
            "Train accuracy:  0.9455442176870749\n",
            "Validation Accuracy:  0.9371428571428572\n",
            "Completed epoch:  66\n",
            "Train accuracy:  0.9441496598639456\n",
            "Validation Accuracy:  0.9392857142857143\n",
            "Completed epoch:  67\n",
            "Train accuracy:  0.9466666666666667\n",
            "Validation Accuracy:  0.9402380952380952\n",
            "Completed epoch:  68\n",
            "Train accuracy:  0.9442857142857143\n",
            "Validation Accuracy:  0.9376190476190476\n",
            "Completed epoch:  69\n",
            "Train accuracy:  0.9464625850340136\n",
            "Validation Accuracy:  0.939047619047619\n"
          ],
          "name": "stdout"
        }
      ]
    },
    {
      "cell_type": "code",
      "metadata": {
        "id": "O3bodSqpB3ER",
        "colab_type": "code",
        "colab": {
          "base_uri": "https://localhost:8080/",
          "height": 35
        },
        "outputId": "43c200ca-4b3e-46ad-d7b8-3b35c0122c84"
      },
      "source": [
        "# Train accuracy\n",
        "num_correct/len(train)"
      ],
      "execution_count": 70,
      "outputs": [
        {
          "output_type": "execute_result",
          "data": {
            "text/plain": [
              "0.9464625850340136"
            ]
          },
          "metadata": {
            "tags": []
          },
          "execution_count": 70
        }
      ]
    },
    {
      "cell_type": "code",
      "metadata": {
        "id": "KYQy_GPLEMNr",
        "colab_type": "code",
        "colab": {
          "base_uri": "https://localhost:8080/",
          "height": 35
        },
        "outputId": "29d64866-02ed-4a16-8128-77364227293d"
      },
      "source": [
        "len(train)"
      ],
      "execution_count": 71,
      "outputs": [
        {
          "output_type": "execute_result",
          "data": {
            "text/plain": [
              "29400"
            ]
          },
          "metadata": {
            "tags": []
          },
          "execution_count": 71
        }
      ]
    },
    {
      "cell_type": "code",
      "metadata": {
        "id": "MnZpRPR_B8JC",
        "colab_type": "code",
        "colab": {
          "base_uri": "https://localhost:8080/",
          "height": 35
        },
        "outputId": "ebbb2687-dc28-4470-b4c3-4d112ced2e5d"
      },
      "source": [
        "# val accuracy\n",
        "val = val.to(device)\n",
        "val_labels = val_labels.to(device)\n",
        "val_preds = network(val)\n",
        "val_num_correct = val_preds.argmax(dim=1).eq(val_labels).sum().item()\n",
        "val_num_correct/len(val_preds)"
      ],
      "execution_count": 72,
      "outputs": [
        {
          "output_type": "execute_result",
          "data": {
            "text/plain": [
              "0.939047619047619"
            ]
          },
          "metadata": {
            "tags": []
          },
          "execution_count": 72
        }
      ]
    },
    {
      "cell_type": "markdown",
      "metadata": {
        "id": "vviXFU3XCzlb",
        "colab_type": "text"
      },
      "source": [
        "## Train/Validation accuracy\n",
        "- 93%/90.9%: bs=50, ep=70, lr=.00001, lmda=0, hidden=100, 1-hidden sigmoid Adam\n",
        "- 24% for both when using SGD instead of Adam and all other params above same\n",
        "\n",
        "- 70%/70%: bs=50, ep=70, lr=.00001, lmda=1, hidden=100, 1-hidden sigmoid Adam\n",
        "\n",
        "- 11%/11%: bs=50, ep=70, lr=.00001, lmda=10.0, hidden=100, 1-hidden sigmoid Adam\n",
        "\n",
        "- 90.8/90.1: bs=50, ep=70, lr=.00001, lmda=0.1, hidden=100, 1-hidden sig adam\n",
        "\n",
        "- 92.9%/90.8%: bs=50, ep=70, lr=.00001, lmda=0.01, hidden=100, 1-hidden sigmoid Adam\n",
        "\n",
        "- 93.1/90.8%: bs=50, ep=70, lr=.00001, lmda=0.001, hidden=100, 1-hidden sig Adam\n",
        "\n",
        "- 91.1/89.7%: bs=50, ep=40, lr=.00001, lmda=0, hidden=100, 1-hidden sigmoid Adam\n",
        "\n",
        "- 89.1%/87.2%: bs=50, ep=70, lr=.00001, lmda=0, hidden=30, 1-hidden sigmoid Adam\n",
        "\n",
        "- lr=3 got us to 9.4% train/val with 50, 70, 0, 100, 1-hidden sig, Adam\n",
        "\n",
        "- lr=3 got us to 20% train/val with 50, 70, 0, 100, 1-hidden sig, SGD, not adam\n",
        "\n",
        "- lr=1 got us to 70% train/val with 50, 70, 0, 100, 1-hidden sig, SGD, not adam\n",
        "\n",
        "\n",
        "\n",
        "\n",
        "- **94.6/94.0: bs=50, ep=70, lr=.1, lmda=0, hidden=100, 1-hidden sigmoid SGD, no batchnorm1D.** (for this one, if you remove last sigmoid activation function, training and val accuracy drop to about 87%).\n",
        " - Adding batch norm to first layer resulted in training/val acc about 87%.\n",
        " - When add batch norm to both layers, train/val acc 84/82\n",
        "\n",
        "- **96/92.9: bs=50, ep=70, lr=.01, lmda=0, hidden=100, 1-hidden sigmoid SGD. No batchnorm1D.**\n",
        "\n",
        "\n",
        "### This gets 11 percent accuracy\n",
        "\n",
        "    network = nn.Sequential(\n",
        "    nn.Linear(in_features=in_features, out_features=hidden_neurons_size),\n",
        "    nn.ReLU(),\n",
        "    nn.Linear(in_features=hidden_neurons_size, out_features=10))#,\n",
        "    #nn.Sigmoid())\n",
        "\n",
        "### Train 56% and val 47% with\n",
        "\n",
        "    network = nn.Sequential(\n",
        "    nn.Linear(in_features=in_features, out_features=hidden_neurons_size),\n",
        "    nn.ReLU(),\n",
        "    nn.Linear(in_features=hidden_neurons_size, out_features=10),\n",
        "    nn.Sigmoid())\n",
        "\n",
        "### The successful runs used this architecture:\n",
        "    network = nn.Sequential(\n",
        "    nn.Linear(in_features=in_features, out_features=hidden_neurons_size),\n",
        "    nn.Sigmoid(),\n",
        "    nn.Linear(in_features=hidden_neurons_size, out_features=10),\n",
        "    nn.Sigmoid())\n",
        "\n",
        "\n",
        "### Network below with negative log likelihood cost F.nll_loss(preds, targets) gets training/val accuracy around 83%, but was still increasing when training stopped at 70 epochs.Tried with 120 epochs and similar results, about 84%.\n",
        "    network = nn.Sequential(\n",
        "    nn.Linear(in_features=in_features, out_features=hidden_neurons_size),\n",
        "    nn.Sigmoid(),\n",
        "    nn.Linear(in_features=hidden_neurons_size, out_features=10),\n",
        "    nn.Softmax())\n",
        "\n",
        "\n",
        "- nn.Tanh had low 70 percent accuracies with same other parameters as when Sigmoid neurons had 90% accuracy. Why?\n",
        "\n",
        "\n",
        "\n",
        "- 91.2/89.5: bs=50, ep=40, lr=.001, lmda=0, hidden=100, 1-hidden sigmoid SGD\n",
        "\n",
        "\n",
        "\n",
        "- fell to 60s with lambda=1 and then to 11% with lambda=10\n"
      ]
    },
    {
      "cell_type": "code",
      "metadata": {
        "id": "1Go4oSdHStuw",
        "colab_type": "code",
        "colab": {}
      },
      "source": [
        ""
      ],
      "execution_count": 56,
      "outputs": []
    }
  ]
}