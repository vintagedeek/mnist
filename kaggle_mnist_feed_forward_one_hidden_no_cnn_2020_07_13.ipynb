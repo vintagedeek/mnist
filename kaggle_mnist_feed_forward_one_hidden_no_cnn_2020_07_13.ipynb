{
  "nbformat": 4,
  "nbformat_minor": 0,
  "metadata": {
    "colab": {
      "name": "kaggle_mnist_feed_forward_one_hidden_no_cnn_2020_07_13.ipynb",
      "provenance": [],
      "collapsed_sections": [],
      "authorship_tag": "ABX9TyPRA8vsj7/JjiaZLiV64qKx",
      "include_colab_link": true
    },
    "kernelspec": {
      "name": "python3",
      "display_name": "Python 3"
    },
    "accelerator": "GPU"
  },
  "cells": [
    {
      "cell_type": "markdown",
      "metadata": {
        "id": "view-in-github",
        "colab_type": "text"
      },
      "source": [
        "<a href=\"https://colab.research.google.com/github/vintagedeek/mnist/blob/master/kaggle_mnist_feed_forward_one_hidden_no_cnn_2020_07_13.ipynb\" target=\"_parent\"><img src=\"https://colab.research.google.com/assets/colab-badge.svg\" alt=\"Open In Colab\"/></a>"
      ]
    },
    {
      "cell_type": "code",
      "metadata": {
        "id": "GnUXMEYm5UaU",
        "colab_type": "code",
        "colab": {}
      },
      "source": [
        "import pandas as pd\n",
        "import numpy as np\n",
        "\n",
        "import torch \n",
        "import torch.nn as nn\n",
        "import torch.optim as optim\n",
        "import torch.nn.functional as F"
      ],
      "execution_count": 1,
      "outputs": []
    },
    {
      "cell_type": "code",
      "metadata": {
        "id": "K6pL51RZ5mk_",
        "colab_type": "code",
        "colab": {
          "base_uri": "https://localhost:8080/",
          "height": 108
        },
        "outputId": "7a4ee826-b3c6-43ff-86d5-c6831cac8c98"
      },
      "source": [
        "train_url = \"https://raw.githubusercontent.com/wehrley/Kaggle-Digit-Recognizer/master/train.csv\"\n",
        "df_train = pd.read_csv(train_url)\n",
        "df_train.info()"
      ],
      "execution_count": 2,
      "outputs": [
        {
          "output_type": "stream",
          "text": [
            "<class 'pandas.core.frame.DataFrame'>\n",
            "RangeIndex: 42000 entries, 0 to 41999\n",
            "Columns: 785 entries, label to pixel783\n",
            "dtypes: int64(785)\n",
            "memory usage: 251.5 MB\n"
          ],
          "name": "stdout"
        }
      ]
    },
    {
      "cell_type": "code",
      "metadata": {
        "id": "Seh8xde35vNL",
        "colab_type": "code",
        "colab": {
          "base_uri": "https://localhost:8080/",
          "height": 108
        },
        "outputId": "fc3411da-be54-4885-b5f1-9369518cd60c"
      },
      "source": [
        "test_url = 'https://raw.githubusercontent.com/wehrley/Kaggle-Digit-Recognizer/master/test.csv'\n",
        "df_test = pd.read_csv(test_url)\n",
        "df_test.info()"
      ],
      "execution_count": 3,
      "outputs": [
        {
          "output_type": "stream",
          "text": [
            "<class 'pandas.core.frame.DataFrame'>\n",
            "RangeIndex: 28000 entries, 0 to 27999\n",
            "Columns: 784 entries, pixel0 to pixel783\n",
            "dtypes: int64(784)\n",
            "memory usage: 167.5 MB\n"
          ],
          "name": "stdout"
        }
      ]
    },
    {
      "cell_type": "code",
      "metadata": {
        "id": "SyFhhh_f58Li",
        "colab_type": "code",
        "colab": {}
      },
      "source": [
        "train_set = df_train[0:29400]\n",
        "train = torch.tensor(np.array(train_set.iloc[:, 1:]), dtype=torch.torch.float32)\n",
        "train_labels = torch.tensor(np.array(train_set.iloc[:, 0]), dtype=torch.int64)\n",
        "val_set = df_train[29400:]\n",
        "val = torch.tensor(np.array(val_set.iloc[:, 1:]), dtype=torch.float32)\n",
        "val_labels = torch.tensor(np.array(val_set.iloc[:, 0]), dtype=torch.int64)"
      ],
      "execution_count": 4,
      "outputs": []
    },
    {
      "cell_type": "code",
      "metadata": {
        "id": "L-WQCd415-c7",
        "colab_type": "code",
        "colab": {}
      },
      "source": [
        "device = 'cuda' if torch.cuda.is_available() else 'cpu'"
      ],
      "execution_count": 5,
      "outputs": []
    },
    {
      "cell_type": "code",
      "metadata": {
        "id": "9Qq-OmCZ6Iva",
        "colab_type": "code",
        "colab": {
          "base_uri": "https://localhost:8080/",
          "height": 35
        },
        "outputId": "c90f458d-6f96-4888-e938-b7bd6aed87a1"
      },
      "source": [
        "device"
      ],
      "execution_count": 6,
      "outputs": [
        {
          "output_type": "execute_result",
          "data": {
            "application/vnd.google.colaboratory.intrinsic": {
              "type": "string"
            },
            "text/plain": [
              "'cuda'"
            ]
          },
          "metadata": {
            "tags": []
          },
          "execution_count": 6
        }
      ]
    },
    {
      "cell_type": "code",
      "metadata": {
        "id": "Y2uDrSen8Qp2",
        "colab_type": "code",
        "colab": {
          "base_uri": "https://localhost:8080/",
          "height": 35
        },
        "outputId": "6f7c764b-2b23-4739-eb7a-2d41e715d41a"
      },
      "source": [
        "train_labels.shape"
      ],
      "execution_count": 7,
      "outputs": [
        {
          "output_type": "execute_result",
          "data": {
            "text/plain": [
              "torch.Size([29400])"
            ]
          },
          "metadata": {
            "tags": []
          },
          "execution_count": 7
        }
      ]
    },
    {
      "cell_type": "code",
      "metadata": {
        "id": "fyoEAqCf6JUd",
        "colab_type": "code",
        "colab": {}
      },
      "source": [
        "batch_size = 50\n",
        "epochs = 70\n",
        "learning_rate = 0.1\n",
        "lmbda = 0\n",
        "hidden_neurons_size = 100\n",
        "in_features = 784 # image is shape (28, 28)"
      ],
      "execution_count": 65,
      "outputs": []
    },
    {
      "cell_type": "code",
      "metadata": {
        "id": "1-m5y1SQ6M8S",
        "colab_type": "code",
        "colab": {}
      },
      "source": [
        "network = nn.Sequential(\n",
        "    nn.Linear(in_features=in_features, out_features=hidden_neurons_size),\n",
        "    nn.Sigmoid(),\n",
        "    nn.Linear(in_features=hidden_neurons_size, out_features=10),\n",
        "    nn.Sigmoid())"
      ],
      "execution_count": 66,
      "outputs": []
    },
    {
      "cell_type": "code",
      "metadata": {
        "id": "ZZCa9TWDEyAC",
        "colab_type": "code",
        "colab": {
          "base_uri": "https://localhost:8080/",
          "height": 35
        },
        "outputId": "55a4c24e-2273-4c38-93dc-b70ec9e35e86"
      },
      "source": [
        "train_labels.shape"
      ],
      "execution_count": 67,
      "outputs": [
        {
          "output_type": "execute_result",
          "data": {
            "text/plain": [
              "torch.Size([29400])"
            ]
          },
          "metadata": {
            "tags": []
          },
          "execution_count": 67
        }
      ]
    },
    {
      "cell_type": "code",
      "metadata": {
        "id": "7ub8DzH0FIaJ",
        "colab_type": "code",
        "colab": {
          "base_uri": "https://localhost:8080/",
          "height": 35
        },
        "outputId": "7616e360-ec96-4400-c2e4-b63e28d5d24b"
      },
      "source": [
        "train.shape"
      ],
      "execution_count": 68,
      "outputs": [
        {
          "output_type": "execute_result",
          "data": {
            "text/plain": [
              "torch.Size([29400, 784])"
            ]
          },
          "metadata": {
            "tags": []
          },
          "execution_count": 68
        }
      ]
    },
    {
      "cell_type": "code",
      "metadata": {
        "id": "iY9jFplD99Ot",
        "colab_type": "code",
        "colab": {
          "base_uri": "https://localhost:8080/",
          "height": 1000
        },
        "outputId": "99629675-ddd6-4585-d40a-261bf2ce63bf"
      },
      "source": [
        "network = network.to(device)\n",
        "optimizer = optim.SGD(network.parameters(), lr=learning_rate, weight_decay=lmbda)\n",
        "#scheduler = optim.lr_scheduler.StepLR(optimizer, step_size=30, gamma=0.1)\n",
        "for j in range(epochs):\n",
        "    num_correct = 0\n",
        "    val_number_correct = 0\n",
        "    mini_batches = [train[k:k + batch_size] for k in range(0, train_labels.shape[0], batch_size)]\n",
        "    mini_labels = [train_labels[k:k + batch_size] for k in range(0, train_labels.shape[0], batch_size)]\n",
        "    for b in range(0, len(mini_batches)):\n",
        "        images = mini_batches[b].to(device)\n",
        "        #print(images.shape)\n",
        "        labels = mini_labels[b].to(device)\n",
        "        #print(labels.shape)\n",
        "        #print(labels.dtype)\n",
        "        #print(images.dtype)\n",
        "        preds = network(images)\n",
        "        loss = F.cross_entropy(preds, labels)\n",
        "        optimizer.zero_grad()\n",
        "        loss.backward()\n",
        "        optimizer.step()\n",
        "        num_correct += preds.argmax(dim=1).eq(labels).sum().item()\n",
        "      \n",
        "    validation_set = val.to(device)\n",
        "    validation_labels = val_labels.to(device) \n",
        "    validation_preds = network(validation_set)\n",
        "    val_number_correct += validation_preds.argmax(dim=1).eq(validation_labels).sum().item()\n",
        "\n",
        "    print('Completed epoch: ', j)\n",
        "    print('Train accuracy: ', num_correct/len(train))\n",
        "    print('Validation Accuracy: ', val_number_correct/len(validation_set))\n",
        "      \n",
        "    #scheduler.step()"
      ],
      "execution_count": 69,
      "outputs": [
        {
          "output_type": "stream",
          "text": [
            "Completed epoch:  0\n",
            "Train accuracy:  0.8200680272108843\n",
            "Validation Accuracy:  0.8815873015873016\n",
            "Completed epoch:  1\n",
            "Train accuracy:  0.8897278911564626\n",
            "Validation Accuracy:  0.895079365079365\n",
            "Completed epoch:  2\n",
            "Train accuracy:  0.8976190476190476\n",
            "Validation Accuracy:  0.9034920634920635\n",
            "Completed epoch:  3\n",
            "Train accuracy:  0.9054421768707483\n",
            "Validation Accuracy:  0.9015079365079365\n",
            "Completed epoch:  4\n",
            "Train accuracy:  0.9050340136054422\n",
            "Validation Accuracy:  0.8984920634920635\n",
            "Completed epoch:  5\n",
            "Train accuracy:  0.9087755102040816\n",
            "Validation Accuracy:  0.9095238095238095\n",
            "Completed epoch:  6\n",
            "Train accuracy:  0.9113945578231293\n",
            "Validation Accuracy:  0.9130952380952381\n",
            "Completed epoch:  7\n",
            "Train accuracy:  0.9130952380952381\n",
            "Validation Accuracy:  0.9076984126984127\n",
            "Completed epoch:  8\n",
            "Train accuracy:  0.916530612244898\n",
            "Validation Accuracy:  0.9104761904761904\n",
            "Completed epoch:  9\n",
            "Train accuracy:  0.916734693877551\n",
            "Validation Accuracy:  0.9121428571428571\n",
            "Completed epoch:  10\n",
            "Train accuracy:  0.9175850340136055\n",
            "Validation Accuracy:  0.9138888888888889\n",
            "Completed epoch:  11\n",
            "Train accuracy:  0.9186394557823129\n",
            "Validation Accuracy:  0.9167460317460318\n",
            "Completed epoch:  12\n",
            "Train accuracy:  0.9205102040816326\n",
            "Validation Accuracy:  0.9157142857142857\n",
            "Completed epoch:  13\n",
            "Train accuracy:  0.9192857142857143\n",
            "Validation Accuracy:  0.920079365079365\n",
            "Completed epoch:  14\n",
            "Train accuracy:  0.9224489795918367\n",
            "Validation Accuracy:  0.9182539682539682\n",
            "Completed epoch:  15\n",
            "Train accuracy:  0.9235374149659864\n",
            "Validation Accuracy:  0.9183333333333333\n",
            "Completed epoch:  16\n",
            "Train accuracy:  0.9262244897959183\n",
            "Validation Accuracy:  0.9223015873015873\n",
            "Completed epoch:  17\n",
            "Train accuracy:  0.9240816326530612\n",
            "Validation Accuracy:  0.9179365079365079\n",
            "Completed epoch:  18\n",
            "Train accuracy:  0.9263265306122449\n",
            "Validation Accuracy:  0.9211111111111111\n",
            "Completed epoch:  19\n",
            "Train accuracy:  0.9269387755102041\n",
            "Validation Accuracy:  0.9229365079365079\n",
            "Completed epoch:  20\n",
            "Train accuracy:  0.9283673469387755\n",
            "Validation Accuracy:  0.9207142857142857\n",
            "Completed epoch:  21\n",
            "Train accuracy:  0.9278571428571428\n",
            "Validation Accuracy:  0.9230952380952381\n",
            "Completed epoch:  22\n",
            "Train accuracy:  0.9268707482993197\n",
            "Validation Accuracy:  0.9232539682539682\n",
            "Completed epoch:  23\n",
            "Train accuracy:  0.9269727891156463\n",
            "Validation Accuracy:  0.9253174603174603\n",
            "Completed epoch:  24\n",
            "Train accuracy:  0.9301360544217687\n",
            "Validation Accuracy:  0.9234126984126985\n",
            "Completed epoch:  25\n",
            "Train accuracy:  0.9289115646258503\n",
            "Validation Accuracy:  0.9236507936507936\n",
            "Completed epoch:  26\n",
            "Train accuracy:  0.9306802721088435\n",
            "Validation Accuracy:  0.9257142857142857\n",
            "Completed epoch:  27\n",
            "Train accuracy:  0.9306802721088435\n",
            "Validation Accuracy:  0.926031746031746\n",
            "Completed epoch:  28\n",
            "Train accuracy:  0.932891156462585\n",
            "Validation Accuracy:  0.9167460317460318\n",
            "Completed epoch:  29\n",
            "Train accuracy:  0.9318367346938775\n",
            "Validation Accuracy:  0.9275396825396826\n",
            "Completed epoch:  30\n",
            "Train accuracy:  0.933469387755102\n",
            "Validation Accuracy:  0.928015873015873\n",
            "Completed epoch:  31\n",
            "Train accuracy:  0.9327551020408164\n",
            "Validation Accuracy:  0.926984126984127\n",
            "Completed epoch:  32\n",
            "Train accuracy:  0.9347278911564626\n",
            "Validation Accuracy:  0.9307142857142857\n",
            "Completed epoch:  33\n",
            "Train accuracy:  0.9368707482993197\n",
            "Validation Accuracy:  0.9285714285714286\n",
            "Completed epoch:  34\n",
            "Train accuracy:  0.9343197278911565\n",
            "Validation Accuracy:  0.9272222222222222\n",
            "Completed epoch:  35\n",
            "Train accuracy:  0.9340136054421768\n",
            "Validation Accuracy:  0.9263492063492064\n",
            "Completed epoch:  36\n",
            "Train accuracy:  0.935204081632653\n",
            "Validation Accuracy:  0.9293650793650794\n",
            "Completed epoch:  37\n",
            "Train accuracy:  0.9368367346938775\n",
            "Validation Accuracy:  0.9296031746031747\n",
            "Completed epoch:  38\n",
            "Train accuracy:  0.9362585034013605\n",
            "Validation Accuracy:  0.9311904761904762\n",
            "Completed epoch:  39\n",
            "Train accuracy:  0.9390136054421768\n",
            "Validation Accuracy:  0.9308730158730159\n",
            "Completed epoch:  40\n",
            "Train accuracy:  0.9373809523809524\n",
            "Validation Accuracy:  0.9307936507936508\n",
            "Completed epoch:  41\n",
            "Train accuracy:  0.9358843537414966\n",
            "Validation Accuracy:  0.9305555555555556\n",
            "Completed epoch:  42\n",
            "Train accuracy:  0.9364965986394558\n",
            "Validation Accuracy:  0.9334126984126984\n",
            "Completed epoch:  43\n",
            "Train accuracy:  0.9356802721088435\n",
            "Validation Accuracy:  0.931031746031746\n",
            "Completed epoch:  44\n",
            "Train accuracy:  0.9376530612244898\n",
            "Validation Accuracy:  0.933015873015873\n",
            "Completed epoch:  45\n",
            "Train accuracy:  0.9379251700680272\n",
            "Validation Accuracy:  0.9300793650793651\n",
            "Completed epoch:  46\n",
            "Train accuracy:  0.937687074829932\n",
            "Validation Accuracy:  0.9334126984126984\n",
            "Completed epoch:  47\n",
            "Train accuracy:  0.9390816326530612\n",
            "Validation Accuracy:  0.932063492063492\n",
            "Completed epoch:  48\n",
            "Train accuracy:  0.9392176870748299\n",
            "Validation Accuracy:  0.9326984126984127\n",
            "Completed epoch:  49\n",
            "Train accuracy:  0.9408843537414966\n",
            "Validation Accuracy:  0.9323809523809524\n",
            "Completed epoch:  50\n",
            "Train accuracy:  0.9392517006802721\n",
            "Validation Accuracy:  0.9336507936507936\n",
            "Completed epoch:  51\n",
            "Train accuracy:  0.939625850340136\n",
            "Validation Accuracy:  0.9317460317460318\n",
            "Completed epoch:  52\n",
            "Train accuracy:  0.937108843537415\n",
            "Validation Accuracy:  0.9293650793650794\n",
            "Completed epoch:  53\n",
            "Train accuracy:  0.9377891156462586\n",
            "Validation Accuracy:  0.933015873015873\n",
            "Completed epoch:  54\n",
            "Train accuracy:  0.9393537414965987\n",
            "Validation Accuracy:  0.9350793650793651\n",
            "Completed epoch:  55\n",
            "Train accuracy:  0.9409183673469388\n",
            "Validation Accuracy:  0.9356349206349206\n",
            "Completed epoch:  56\n",
            "Train accuracy:  0.9403061224489796\n",
            "Validation Accuracy:  0.9331746031746032\n",
            "Completed epoch:  57\n",
            "Train accuracy:  0.9424149659863945\n",
            "Validation Accuracy:  0.9365873015873016\n",
            "Completed epoch:  58\n",
            "Train accuracy:  0.9419727891156463\n",
            "Validation Accuracy:  0.9361111111111111\n",
            "Completed epoch:  59\n",
            "Train accuracy:  0.9419727891156463\n",
            "Validation Accuracy:  0.935\n",
            "Completed epoch:  60\n",
            "Train accuracy:  0.9407482993197279\n",
            "Validation Accuracy:  0.935952380952381\n",
            "Completed epoch:  61\n",
            "Train accuracy:  0.9394897959183673\n",
            "Validation Accuracy:  0.9337301587301587\n",
            "Completed epoch:  62\n",
            "Train accuracy:  0.9412585034013605\n",
            "Validation Accuracy:  0.9338095238095238\n",
            "Completed epoch:  63\n",
            "Train accuracy:  0.9396938775510204\n",
            "Validation Accuracy:  0.9337301587301587\n",
            "Completed epoch:  64\n",
            "Train accuracy:  0.9388775510204082\n",
            "Validation Accuracy:  0.9317460317460318\n",
            "Completed epoch:  65\n",
            "Train accuracy:  0.9436734693877551\n",
            "Validation Accuracy:  0.9350793650793651\n",
            "Completed epoch:  66\n",
            "Train accuracy:  0.9421768707482994\n",
            "Validation Accuracy:  0.9376984126984127\n",
            "Completed epoch:  67\n",
            "Train accuracy:  0.941734693877551\n",
            "Validation Accuracy:  0.9356349206349206\n",
            "Completed epoch:  68\n",
            "Train accuracy:  0.9448979591836735\n",
            "Validation Accuracy:  0.9368253968253968\n",
            "Completed epoch:  69\n",
            "Train accuracy:  0.9419387755102041\n",
            "Validation Accuracy:  0.9345238095238095\n"
          ],
          "name": "stdout"
        }
      ]
    },
    {
      "cell_type": "code",
      "metadata": {
        "id": "O3bodSqpB3ER",
        "colab_type": "code",
        "colab": {
          "base_uri": "https://localhost:8080/",
          "height": 35
        },
        "outputId": "0392c3a1-bd32-4878-ac4c-4a5ac083c723"
      },
      "source": [
        "# Train accuracy\n",
        "num_correct/len(train)"
      ],
      "execution_count": 70,
      "outputs": [
        {
          "output_type": "execute_result",
          "data": {
            "text/plain": [
              "0.9419387755102041"
            ]
          },
          "metadata": {
            "tags": []
          },
          "execution_count": 70
        }
      ]
    },
    {
      "cell_type": "code",
      "metadata": {
        "id": "KYQy_GPLEMNr",
        "colab_type": "code",
        "colab": {
          "base_uri": "https://localhost:8080/",
          "height": 35
        },
        "outputId": "e9fce4d5-ac13-4a22-dba0-a1414afa5401"
      },
      "source": [
        "len(train)"
      ],
      "execution_count": 71,
      "outputs": [
        {
          "output_type": "execute_result",
          "data": {
            "text/plain": [
              "29400"
            ]
          },
          "metadata": {
            "tags": []
          },
          "execution_count": 71
        }
      ]
    },
    {
      "cell_type": "code",
      "metadata": {
        "id": "MnZpRPR_B8JC",
        "colab_type": "code",
        "colab": {
          "base_uri": "https://localhost:8080/",
          "height": 35
        },
        "outputId": "98ceb86c-7b1d-4a9e-9e42-8356c723573a"
      },
      "source": [
        "# val accuracy\n",
        "val = val.to(device)\n",
        "val_labels = val_labels.to(device)\n",
        "val_preds = network(val)\n",
        "val_num_correct = val_preds.argmax(dim=1).eq(val_labels).sum().item()\n",
        "val_num_correct/len(val_preds)"
      ],
      "execution_count": 72,
      "outputs": [
        {
          "output_type": "execute_result",
          "data": {
            "text/plain": [
              "0.9345238095238095"
            ]
          },
          "metadata": {
            "tags": []
          },
          "execution_count": 72
        }
      ]
    },
    {
      "cell_type": "markdown",
      "metadata": {
        "id": "vviXFU3XCzlb",
        "colab_type": "text"
      },
      "source": [
        "## Train/Validation accuracy\n",
        "- 93%/90.9%: bs=50, ep=70, lr=.00001, lmda=0, hidden=100, 1-hidden sigmoid Adam\n",
        "- 24% for both when using SGD instead of Adam and all other params above same\n",
        "\n",
        "- 70%/70%: bs=50, ep=70, lr=.00001, lmda=1, hidden=100, 1-hidden sigmoid Adam\n",
        "\n",
        "- 11%/11%: bs=50, ep=70, lr=.00001, lmda=10.0, hidden=100, 1-hidden sigmoid Adam\n",
        "\n",
        "- 90.8/90.1: bs=50, ep=70, lr=.00001, lmda=0.1, hidden=100, 1-hidden sig adam\n",
        "\n",
        "- 92.9%/90.8%: bs=50, ep=70, lr=.00001, lmda=0.01, hidden=100, 1-hidden sigmoid Adam\n",
        "\n",
        "- 93.1/90.8%: bs=50, ep=70, lr=.00001, lmda=0.001, hidden=100, 1-hidden sig Adam\n",
        "\n",
        "- 91.1/89.7%: bs=50, ep=40, lr=.00001, lmda=0, hidden=100, 1-hidden sigmoid Adam\n",
        "\n",
        "- 89.1%/87.2%: bs=50, ep=70, lr=.00001, lmda=0, hidden=30, 1-hidden sigmoid Adam\n",
        "\n",
        "- lr=3 got us to 9.4% train/val with 50, 70, 0, 100, 1-hidden sig, Adam\n",
        "\n",
        "- lr=3 got us to 20% train/val with 50, 70, 0, 100, 1-hidden sig, SGD, not adam\n",
        "\n",
        "- lr=1 got us to 70% train/val with 50, 70, 0, 100, 1-hidden sig, SGD, not adam\n",
        "\n",
        "\n",
        "\n",
        "\n",
        "- **94.5/93.8: bs=50, ep=70, lr=.1, lmda=0, hidden=100, 1-hidden sigmoid SGD** (for this one, if you remove last sigmoid activation function, training and val accuracy drop to about 87%)\n",
        "\n",
        "- **96/92.9: bs=50, ep=70, lr=.01, lmda=0, hidden=100, 1-hidden sigmoid SGD**\n",
        "\n",
        "\n",
        "### This gets 11 percent accuracy\n",
        "\n",
        "    network = nn.Sequential(\n",
        "    nn.Linear(in_features=in_features, out_features=hidden_neurons_size),\n",
        "    nn.ReLU(),\n",
        "    nn.Linear(in_features=hidden_neurons_size, out_features=10))#,\n",
        "    #nn.Sigmoid())\n",
        "\n",
        "### Train 56% and val 47% with\n",
        "\n",
        "    network = nn.Sequential(\n",
        "    nn.Linear(in_features=in_features, out_features=hidden_neurons_size),\n",
        "    nn.ReLU(),\n",
        "    nn.Linear(in_features=hidden_neurons_size, out_features=10),\n",
        "    nn.Sigmoid())\n",
        "\n",
        "### The successful runs used this architecture:\n",
        "    network = nn.Sequential(\n",
        "    nn.Linear(in_features=in_features, out_features=hidden_neurons_size),\n",
        "    nn.Sigmoid(),\n",
        "    nn.Linear(in_features=hidden_neurons_size, out_features=10),\n",
        "    nn.Sigmoid())\n",
        "\n",
        "\n",
        "### Network below with negative log likelihood cost F.nll_loss(preds, targets) gets training/val accuracy around 83%, but was still increasing when training stopped at 70 epochs.Tried with 120 epochs and similar results, about 84%.\n",
        "    network = nn.Sequential(\n",
        "    nn.Linear(in_features=in_features, out_features=hidden_neurons_size),\n",
        "    nn.Sigmoid(),\n",
        "    nn.Linear(in_features=hidden_neurons_size, out_features=10),\n",
        "    nn.Softmax())\n",
        "\n",
        "\n",
        "- nn.Tanh had low 70 percent accuracies with same other parameters as when Sigmoid neurons had 90% accuracy. Why?\n",
        "\n",
        "\n",
        "\n",
        "- 91.2/89.5: bs=50, ep=40, lr=.001, lmda=0, hidden=100, 1-hidden sigmoid SGD\n",
        "\n",
        "\n",
        "\n",
        "- fell to 60s with lambda=1 and then to 11% with lambda=10\n"
      ]
    }
  ]
}
